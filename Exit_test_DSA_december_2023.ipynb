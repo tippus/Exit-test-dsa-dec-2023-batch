{
  "nbformat": 4,
  "nbformat_minor": 0,
  "metadata": {
    "colab": {
      "provenance": []
    },
    "kernelspec": {
      "name": "python3",
      "display_name": "Python 3"
    },
    "language_info": {
      "name": "python"
    }
  },
  "cells": [
    {
      "cell_type": "markdown",
      "source": [
        " **importing libraries necessary for EDA and data preprocessing**"
      ],
      "metadata": {
        "id": "gCXU-di_ZtAW"
      }
    },
    {
      "cell_type": "code",
      "execution_count": 94,
      "metadata": {
        "id": "Yjfp7TrlYoXS"
      },
      "outputs": [],
      "source": [
        "import pandas as pd\n",
        "import numpy as np\n",
        "import matplotlib.pyplot as plt\n",
        "import seaborn as sns\n",
        "from sklearn.preprocessing import LabelEncoder"
      ]
    },
    {
      "cell_type": "markdown",
      "source": [
        "**loading the employee attrition prediction  dataset**"
      ],
      "metadata": {
        "id": "lERIlCn_b3W3"
      }
    },
    {
      "cell_type": "code",
      "source": [
        "data = pd.read_csv('/content/Employee.csv')"
      ],
      "metadata": {
        "id": "NqnR3tBCZSNV"
      },
      "execution_count": 46,
      "outputs": []
    },
    {
      "cell_type": "code",
      "source": [
        "data"
      ],
      "metadata": {
        "colab": {
          "base_uri": "https://localhost:8080/",
          "height": 478
        },
        "id": "VhkO0eaGZikj",
        "outputId": "d7facb9a-e220-4749-ba81-bc25d062c4da"
      },
      "execution_count": 47,
      "outputs": [
        {
          "output_type": "execute_result",
          "data": {
            "text/plain": [
              "       Employee ID  Age  Gender  Years at Company    Job Role  Monthly Income  \\\n",
              "0             8410   31    Male                19   Education            5390   \n",
              "1            64756   59  Female                 4       Media            5534   \n",
              "2            30257   24  Female                10  Healthcare            8159   \n",
              "3            65791   36  Female                 7   Education            3989   \n",
              "4            65026   56    Male                41   Education            4821   \n",
              "...            ...  ...     ...               ...         ...             ...   \n",
              "48693        21051   45  Female                31   Education            3658   \n",
              "48694         8508   21    Male                12  Technology           10136   \n",
              "48695        42965   57    Male                44   Education            5958   \n",
              "48696        20505   25    Male                 1  Technology            8566   \n",
              "48697        57758   18    Male                 3     Finance           10747   \n",
              "\n",
              "      Work-Life Balance Job Satisfaction Performance Rating  \\\n",
              "0             Excellent           Medium            Average   \n",
              "1                  Poor             High                Low   \n",
              "2                  Good             High                Low   \n",
              "3                  Good             High               High   \n",
              "4                  Fair        Very High            Average   \n",
              "...                 ...              ...                ...   \n",
              "48693              Fair           Medium               High   \n",
              "48694         Excellent              Low               High   \n",
              "48695              Good             High            Average   \n",
              "48696         Excellent        Very High            Average   \n",
              "48697         Excellent              Low            Average   \n",
              "\n",
              "       Number of Promotions  ... Number of Dependents  Job Level Company Size  \\\n",
              "0                       2.0  ...                  0.0        Mid       Medium   \n",
              "1                       3.0  ...                  3.0        Mid       Medium   \n",
              "2                       0.0  ...                  3.0        Mid       Medium   \n",
              "3                       1.0  ...                  2.0        Mid        Small   \n",
              "4                       0.0  ...                  0.0     Senior       Medium   \n",
              "...                     ...  ...                  ...        ...          ...   \n",
              "48693                   1.0  ...                  2.0      Entry        Small   \n",
              "48694                   2.0  ...                  3.0     Senior       Medium   \n",
              "48695                   0.0  ...                  0.0      Entry        Small   \n",
              "48696                   1.0  ...                  4.0     Senior       Medium   \n",
              "48697                   3.0  ...                  0.0        Mid       Medium   \n",
              "\n",
              "      Company Tenure  Remote Work Leadership Opportunities  \\\n",
              "0                 89           No                       No   \n",
              "1                 21           No                       No   \n",
              "2                 74           No                       No   \n",
              "3                 50          Yes                       No   \n",
              "4                 68           No                       No   \n",
              "...              ...          ...                      ...   \n",
              "48693            107          Yes                       No   \n",
              "48694             56           No                       No   \n",
              "48695             97           No                       No   \n",
              "48696              6           No                       No   \n",
              "48697             72           No                       No   \n",
              "\n",
              "      Innovation Opportunities  Company Reputation Employee Recognition  \\\n",
              "0                           No           Excellent               Medium   \n",
              "1                           No                Fair                  Low   \n",
              "2                           No                Poor                  Low   \n",
              "3                           No                Good               Medium   \n",
              "4                           No                Fair               Medium   \n",
              "...                        ...                 ...                  ...   \n",
              "48693                       No                Poor                  Low   \n",
              "48694                       No                Good                  Low   \n",
              "48695                       No                Good                  Low   \n",
              "48696                       No                Good               Medium   \n",
              "48697                      Yes                Good                  Low   \n",
              "\n",
              "      Attrition  \n",
              "0        Stayed  \n",
              "1        Stayed  \n",
              "2        Stayed  \n",
              "3        Stayed  \n",
              "4        Stayed  \n",
              "...         ...  \n",
              "48693      Left  \n",
              "48694    Stayed  \n",
              "48695    Stayed  \n",
              "48696    Stayed  \n",
              "48697      Stay  \n",
              "\n",
              "[48698 rows x 24 columns]"
            ],
            "text/html": [
              "\n",
              "  <div id=\"df-edec4883-814c-4d33-a0fa-b4165567cd37\" class=\"colab-df-container\">\n",
              "    <div>\n",
              "<style scoped>\n",
              "    .dataframe tbody tr th:only-of-type {\n",
              "        vertical-align: middle;\n",
              "    }\n",
              "\n",
              "    .dataframe tbody tr th {\n",
              "        vertical-align: top;\n",
              "    }\n",
              "\n",
              "    .dataframe thead th {\n",
              "        text-align: right;\n",
              "    }\n",
              "</style>\n",
              "<table border=\"1\" class=\"dataframe\">\n",
              "  <thead>\n",
              "    <tr style=\"text-align: right;\">\n",
              "      <th></th>\n",
              "      <th>Employee ID</th>\n",
              "      <th>Age</th>\n",
              "      <th>Gender</th>\n",
              "      <th>Years at Company</th>\n",
              "      <th>Job Role</th>\n",
              "      <th>Monthly Income</th>\n",
              "      <th>Work-Life Balance</th>\n",
              "      <th>Job Satisfaction</th>\n",
              "      <th>Performance Rating</th>\n",
              "      <th>Number of Promotions</th>\n",
              "      <th>...</th>\n",
              "      <th>Number of Dependents</th>\n",
              "      <th>Job Level</th>\n",
              "      <th>Company Size</th>\n",
              "      <th>Company Tenure</th>\n",
              "      <th>Remote Work</th>\n",
              "      <th>Leadership Opportunities</th>\n",
              "      <th>Innovation Opportunities</th>\n",
              "      <th>Company Reputation</th>\n",
              "      <th>Employee Recognition</th>\n",
              "      <th>Attrition</th>\n",
              "    </tr>\n",
              "  </thead>\n",
              "  <tbody>\n",
              "    <tr>\n",
              "      <th>0</th>\n",
              "      <td>8410</td>\n",
              "      <td>31</td>\n",
              "      <td>Male</td>\n",
              "      <td>19</td>\n",
              "      <td>Education</td>\n",
              "      <td>5390</td>\n",
              "      <td>Excellent</td>\n",
              "      <td>Medium</td>\n",
              "      <td>Average</td>\n",
              "      <td>2.0</td>\n",
              "      <td>...</td>\n",
              "      <td>0.0</td>\n",
              "      <td>Mid</td>\n",
              "      <td>Medium</td>\n",
              "      <td>89</td>\n",
              "      <td>No</td>\n",
              "      <td>No</td>\n",
              "      <td>No</td>\n",
              "      <td>Excellent</td>\n",
              "      <td>Medium</td>\n",
              "      <td>Stayed</td>\n",
              "    </tr>\n",
              "    <tr>\n",
              "      <th>1</th>\n",
              "      <td>64756</td>\n",
              "      <td>59</td>\n",
              "      <td>Female</td>\n",
              "      <td>4</td>\n",
              "      <td>Media</td>\n",
              "      <td>5534</td>\n",
              "      <td>Poor</td>\n",
              "      <td>High</td>\n",
              "      <td>Low</td>\n",
              "      <td>3.0</td>\n",
              "      <td>...</td>\n",
              "      <td>3.0</td>\n",
              "      <td>Mid</td>\n",
              "      <td>Medium</td>\n",
              "      <td>21</td>\n",
              "      <td>No</td>\n",
              "      <td>No</td>\n",
              "      <td>No</td>\n",
              "      <td>Fair</td>\n",
              "      <td>Low</td>\n",
              "      <td>Stayed</td>\n",
              "    </tr>\n",
              "    <tr>\n",
              "      <th>2</th>\n",
              "      <td>30257</td>\n",
              "      <td>24</td>\n",
              "      <td>Female</td>\n",
              "      <td>10</td>\n",
              "      <td>Healthcare</td>\n",
              "      <td>8159</td>\n",
              "      <td>Good</td>\n",
              "      <td>High</td>\n",
              "      <td>Low</td>\n",
              "      <td>0.0</td>\n",
              "      <td>...</td>\n",
              "      <td>3.0</td>\n",
              "      <td>Mid</td>\n",
              "      <td>Medium</td>\n",
              "      <td>74</td>\n",
              "      <td>No</td>\n",
              "      <td>No</td>\n",
              "      <td>No</td>\n",
              "      <td>Poor</td>\n",
              "      <td>Low</td>\n",
              "      <td>Stayed</td>\n",
              "    </tr>\n",
              "    <tr>\n",
              "      <th>3</th>\n",
              "      <td>65791</td>\n",
              "      <td>36</td>\n",
              "      <td>Female</td>\n",
              "      <td>7</td>\n",
              "      <td>Education</td>\n",
              "      <td>3989</td>\n",
              "      <td>Good</td>\n",
              "      <td>High</td>\n",
              "      <td>High</td>\n",
              "      <td>1.0</td>\n",
              "      <td>...</td>\n",
              "      <td>2.0</td>\n",
              "      <td>Mid</td>\n",
              "      <td>Small</td>\n",
              "      <td>50</td>\n",
              "      <td>Yes</td>\n",
              "      <td>No</td>\n",
              "      <td>No</td>\n",
              "      <td>Good</td>\n",
              "      <td>Medium</td>\n",
              "      <td>Stayed</td>\n",
              "    </tr>\n",
              "    <tr>\n",
              "      <th>4</th>\n",
              "      <td>65026</td>\n",
              "      <td>56</td>\n",
              "      <td>Male</td>\n",
              "      <td>41</td>\n",
              "      <td>Education</td>\n",
              "      <td>4821</td>\n",
              "      <td>Fair</td>\n",
              "      <td>Very High</td>\n",
              "      <td>Average</td>\n",
              "      <td>0.0</td>\n",
              "      <td>...</td>\n",
              "      <td>0.0</td>\n",
              "      <td>Senior</td>\n",
              "      <td>Medium</td>\n",
              "      <td>68</td>\n",
              "      <td>No</td>\n",
              "      <td>No</td>\n",
              "      <td>No</td>\n",
              "      <td>Fair</td>\n",
              "      <td>Medium</td>\n",
              "      <td>Stayed</td>\n",
              "    </tr>\n",
              "    <tr>\n",
              "      <th>...</th>\n",
              "      <td>...</td>\n",
              "      <td>...</td>\n",
              "      <td>...</td>\n",
              "      <td>...</td>\n",
              "      <td>...</td>\n",
              "      <td>...</td>\n",
              "      <td>...</td>\n",
              "      <td>...</td>\n",
              "      <td>...</td>\n",
              "      <td>...</td>\n",
              "      <td>...</td>\n",
              "      <td>...</td>\n",
              "      <td>...</td>\n",
              "      <td>...</td>\n",
              "      <td>...</td>\n",
              "      <td>...</td>\n",
              "      <td>...</td>\n",
              "      <td>...</td>\n",
              "      <td>...</td>\n",
              "      <td>...</td>\n",
              "      <td>...</td>\n",
              "    </tr>\n",
              "    <tr>\n",
              "      <th>48693</th>\n",
              "      <td>21051</td>\n",
              "      <td>45</td>\n",
              "      <td>Female</td>\n",
              "      <td>31</td>\n",
              "      <td>Education</td>\n",
              "      <td>3658</td>\n",
              "      <td>Fair</td>\n",
              "      <td>Medium</td>\n",
              "      <td>High</td>\n",
              "      <td>1.0</td>\n",
              "      <td>...</td>\n",
              "      <td>2.0</td>\n",
              "      <td>Entry</td>\n",
              "      <td>Small</td>\n",
              "      <td>107</td>\n",
              "      <td>Yes</td>\n",
              "      <td>No</td>\n",
              "      <td>No</td>\n",
              "      <td>Poor</td>\n",
              "      <td>Low</td>\n",
              "      <td>Left</td>\n",
              "    </tr>\n",
              "    <tr>\n",
              "      <th>48694</th>\n",
              "      <td>8508</td>\n",
              "      <td>21</td>\n",
              "      <td>Male</td>\n",
              "      <td>12</td>\n",
              "      <td>Technology</td>\n",
              "      <td>10136</td>\n",
              "      <td>Excellent</td>\n",
              "      <td>Low</td>\n",
              "      <td>High</td>\n",
              "      <td>2.0</td>\n",
              "      <td>...</td>\n",
              "      <td>3.0</td>\n",
              "      <td>Senior</td>\n",
              "      <td>Medium</td>\n",
              "      <td>56</td>\n",
              "      <td>No</td>\n",
              "      <td>No</td>\n",
              "      <td>No</td>\n",
              "      <td>Good</td>\n",
              "      <td>Low</td>\n",
              "      <td>Stayed</td>\n",
              "    </tr>\n",
              "    <tr>\n",
              "      <th>48695</th>\n",
              "      <td>42965</td>\n",
              "      <td>57</td>\n",
              "      <td>Male</td>\n",
              "      <td>44</td>\n",
              "      <td>Education</td>\n",
              "      <td>5958</td>\n",
              "      <td>Good</td>\n",
              "      <td>High</td>\n",
              "      <td>Average</td>\n",
              "      <td>0.0</td>\n",
              "      <td>...</td>\n",
              "      <td>0.0</td>\n",
              "      <td>Entry</td>\n",
              "      <td>Small</td>\n",
              "      <td>97</td>\n",
              "      <td>No</td>\n",
              "      <td>No</td>\n",
              "      <td>No</td>\n",
              "      <td>Good</td>\n",
              "      <td>Low</td>\n",
              "      <td>Stayed</td>\n",
              "    </tr>\n",
              "    <tr>\n",
              "      <th>48696</th>\n",
              "      <td>20505</td>\n",
              "      <td>25</td>\n",
              "      <td>Male</td>\n",
              "      <td>1</td>\n",
              "      <td>Technology</td>\n",
              "      <td>8566</td>\n",
              "      <td>Excellent</td>\n",
              "      <td>Very High</td>\n",
              "      <td>Average</td>\n",
              "      <td>1.0</td>\n",
              "      <td>...</td>\n",
              "      <td>4.0</td>\n",
              "      <td>Senior</td>\n",
              "      <td>Medium</td>\n",
              "      <td>6</td>\n",
              "      <td>No</td>\n",
              "      <td>No</td>\n",
              "      <td>No</td>\n",
              "      <td>Good</td>\n",
              "      <td>Medium</td>\n",
              "      <td>Stayed</td>\n",
              "    </tr>\n",
              "    <tr>\n",
              "      <th>48697</th>\n",
              "      <td>57758</td>\n",
              "      <td>18</td>\n",
              "      <td>Male</td>\n",
              "      <td>3</td>\n",
              "      <td>Finance</td>\n",
              "      <td>10747</td>\n",
              "      <td>Excellent</td>\n",
              "      <td>Low</td>\n",
              "      <td>Average</td>\n",
              "      <td>3.0</td>\n",
              "      <td>...</td>\n",
              "      <td>0.0</td>\n",
              "      <td>Mid</td>\n",
              "      <td>Medium</td>\n",
              "      <td>72</td>\n",
              "      <td>No</td>\n",
              "      <td>No</td>\n",
              "      <td>Yes</td>\n",
              "      <td>Good</td>\n",
              "      <td>Low</td>\n",
              "      <td>Stay</td>\n",
              "    </tr>\n",
              "  </tbody>\n",
              "</table>\n",
              "<p>48698 rows × 24 columns</p>\n",
              "</div>\n",
              "    <div class=\"colab-df-buttons\">\n",
              "\n",
              "  <div class=\"colab-df-container\">\n",
              "    <button class=\"colab-df-convert\" onclick=\"convertToInteractive('df-edec4883-814c-4d33-a0fa-b4165567cd37')\"\n",
              "            title=\"Convert this dataframe to an interactive table.\"\n",
              "            style=\"display:none;\">\n",
              "\n",
              "  <svg xmlns=\"http://www.w3.org/2000/svg\" height=\"24px\" viewBox=\"0 -960 960 960\">\n",
              "    <path d=\"M120-120v-720h720v720H120Zm60-500h600v-160H180v160Zm220 220h160v-160H400v160Zm0 220h160v-160H400v160ZM180-400h160v-160H180v160Zm440 0h160v-160H620v160ZM180-180h160v-160H180v160Zm440 0h160v-160H620v160Z\"/>\n",
              "  </svg>\n",
              "    </button>\n",
              "\n",
              "  <style>\n",
              "    .colab-df-container {\n",
              "      display:flex;\n",
              "      gap: 12px;\n",
              "    }\n",
              "\n",
              "    .colab-df-convert {\n",
              "      background-color: #E8F0FE;\n",
              "      border: none;\n",
              "      border-radius: 50%;\n",
              "      cursor: pointer;\n",
              "      display: none;\n",
              "      fill: #1967D2;\n",
              "      height: 32px;\n",
              "      padding: 0 0 0 0;\n",
              "      width: 32px;\n",
              "    }\n",
              "\n",
              "    .colab-df-convert:hover {\n",
              "      background-color: #E2EBFA;\n",
              "      box-shadow: 0px 1px 2px rgba(60, 64, 67, 0.3), 0px 1px 3px 1px rgba(60, 64, 67, 0.15);\n",
              "      fill: #174EA6;\n",
              "    }\n",
              "\n",
              "    .colab-df-buttons div {\n",
              "      margin-bottom: 4px;\n",
              "    }\n",
              "\n",
              "    [theme=dark] .colab-df-convert {\n",
              "      background-color: #3B4455;\n",
              "      fill: #D2E3FC;\n",
              "    }\n",
              "\n",
              "    [theme=dark] .colab-df-convert:hover {\n",
              "      background-color: #434B5C;\n",
              "      box-shadow: 0px 1px 3px 1px rgba(0, 0, 0, 0.15);\n",
              "      filter: drop-shadow(0px 1px 2px rgba(0, 0, 0, 0.3));\n",
              "      fill: #FFFFFF;\n",
              "    }\n",
              "  </style>\n",
              "\n",
              "    <script>\n",
              "      const buttonEl =\n",
              "        document.querySelector('#df-edec4883-814c-4d33-a0fa-b4165567cd37 button.colab-df-convert');\n",
              "      buttonEl.style.display =\n",
              "        google.colab.kernel.accessAllowed ? 'block' : 'none';\n",
              "\n",
              "      async function convertToInteractive(key) {\n",
              "        const element = document.querySelector('#df-edec4883-814c-4d33-a0fa-b4165567cd37');\n",
              "        const dataTable =\n",
              "          await google.colab.kernel.invokeFunction('convertToInteractive',\n",
              "                                                    [key], {});\n",
              "        if (!dataTable) return;\n",
              "\n",
              "        const docLinkHtml = 'Like what you see? Visit the ' +\n",
              "          '<a target=\"_blank\" href=https://colab.research.google.com/notebooks/data_table.ipynb>data table notebook</a>'\n",
              "          + ' to learn more about interactive tables.';\n",
              "        element.innerHTML = '';\n",
              "        dataTable['output_type'] = 'display_data';\n",
              "        await google.colab.output.renderOutput(dataTable, element);\n",
              "        const docLink = document.createElement('div');\n",
              "        docLink.innerHTML = docLinkHtml;\n",
              "        element.appendChild(docLink);\n",
              "      }\n",
              "    </script>\n",
              "  </div>\n",
              "\n",
              "\n",
              "<div id=\"df-e5b2f234-f9ac-4238-878d-114871765331\">\n",
              "  <button class=\"colab-df-quickchart\" onclick=\"quickchart('df-e5b2f234-f9ac-4238-878d-114871765331')\"\n",
              "            title=\"Suggest charts\"\n",
              "            style=\"display:none;\">\n",
              "\n",
              "<svg xmlns=\"http://www.w3.org/2000/svg\" height=\"24px\"viewBox=\"0 0 24 24\"\n",
              "     width=\"24px\">\n",
              "    <g>\n",
              "        <path d=\"M19 3H5c-1.1 0-2 .9-2 2v14c0 1.1.9 2 2 2h14c1.1 0 2-.9 2-2V5c0-1.1-.9-2-2-2zM9 17H7v-7h2v7zm4 0h-2V7h2v10zm4 0h-2v-4h2v4z\"/>\n",
              "    </g>\n",
              "</svg>\n",
              "  </button>\n",
              "\n",
              "<style>\n",
              "  .colab-df-quickchart {\n",
              "      --bg-color: #E8F0FE;\n",
              "      --fill-color: #1967D2;\n",
              "      --hover-bg-color: #E2EBFA;\n",
              "      --hover-fill-color: #174EA6;\n",
              "      --disabled-fill-color: #AAA;\n",
              "      --disabled-bg-color: #DDD;\n",
              "  }\n",
              "\n",
              "  [theme=dark] .colab-df-quickchart {\n",
              "      --bg-color: #3B4455;\n",
              "      --fill-color: #D2E3FC;\n",
              "      --hover-bg-color: #434B5C;\n",
              "      --hover-fill-color: #FFFFFF;\n",
              "      --disabled-bg-color: #3B4455;\n",
              "      --disabled-fill-color: #666;\n",
              "  }\n",
              "\n",
              "  .colab-df-quickchart {\n",
              "    background-color: var(--bg-color);\n",
              "    border: none;\n",
              "    border-radius: 50%;\n",
              "    cursor: pointer;\n",
              "    display: none;\n",
              "    fill: var(--fill-color);\n",
              "    height: 32px;\n",
              "    padding: 0;\n",
              "    width: 32px;\n",
              "  }\n",
              "\n",
              "  .colab-df-quickchart:hover {\n",
              "    background-color: var(--hover-bg-color);\n",
              "    box-shadow: 0 1px 2px rgba(60, 64, 67, 0.3), 0 1px 3px 1px rgba(60, 64, 67, 0.15);\n",
              "    fill: var(--button-hover-fill-color);\n",
              "  }\n",
              "\n",
              "  .colab-df-quickchart-complete:disabled,\n",
              "  .colab-df-quickchart-complete:disabled:hover {\n",
              "    background-color: var(--disabled-bg-color);\n",
              "    fill: var(--disabled-fill-color);\n",
              "    box-shadow: none;\n",
              "  }\n",
              "\n",
              "  .colab-df-spinner {\n",
              "    border: 2px solid var(--fill-color);\n",
              "    border-color: transparent;\n",
              "    border-bottom-color: var(--fill-color);\n",
              "    animation:\n",
              "      spin 1s steps(1) infinite;\n",
              "  }\n",
              "\n",
              "  @keyframes spin {\n",
              "    0% {\n",
              "      border-color: transparent;\n",
              "      border-bottom-color: var(--fill-color);\n",
              "      border-left-color: var(--fill-color);\n",
              "    }\n",
              "    20% {\n",
              "      border-color: transparent;\n",
              "      border-left-color: var(--fill-color);\n",
              "      border-top-color: var(--fill-color);\n",
              "    }\n",
              "    30% {\n",
              "      border-color: transparent;\n",
              "      border-left-color: var(--fill-color);\n",
              "      border-top-color: var(--fill-color);\n",
              "      border-right-color: var(--fill-color);\n",
              "    }\n",
              "    40% {\n",
              "      border-color: transparent;\n",
              "      border-right-color: var(--fill-color);\n",
              "      border-top-color: var(--fill-color);\n",
              "    }\n",
              "    60% {\n",
              "      border-color: transparent;\n",
              "      border-right-color: var(--fill-color);\n",
              "    }\n",
              "    80% {\n",
              "      border-color: transparent;\n",
              "      border-right-color: var(--fill-color);\n",
              "      border-bottom-color: var(--fill-color);\n",
              "    }\n",
              "    90% {\n",
              "      border-color: transparent;\n",
              "      border-bottom-color: var(--fill-color);\n",
              "    }\n",
              "  }\n",
              "</style>\n",
              "\n",
              "  <script>\n",
              "    async function quickchart(key) {\n",
              "      const quickchartButtonEl =\n",
              "        document.querySelector('#' + key + ' button');\n",
              "      quickchartButtonEl.disabled = true;  // To prevent multiple clicks.\n",
              "      quickchartButtonEl.classList.add('colab-df-spinner');\n",
              "      try {\n",
              "        const charts = await google.colab.kernel.invokeFunction(\n",
              "            'suggestCharts', [key], {});\n",
              "      } catch (error) {\n",
              "        console.error('Error during call to suggestCharts:', error);\n",
              "      }\n",
              "      quickchartButtonEl.classList.remove('colab-df-spinner');\n",
              "      quickchartButtonEl.classList.add('colab-df-quickchart-complete');\n",
              "    }\n",
              "    (() => {\n",
              "      let quickchartButtonEl =\n",
              "        document.querySelector('#df-e5b2f234-f9ac-4238-878d-114871765331 button');\n",
              "      quickchartButtonEl.style.display =\n",
              "        google.colab.kernel.accessAllowed ? 'block' : 'none';\n",
              "    })();\n",
              "  </script>\n",
              "</div>\n",
              "\n",
              "  <div id=\"id_34bddcd6-8487-4b66-a736-450fd47fab59\">\n",
              "    <style>\n",
              "      .colab-df-generate {\n",
              "        background-color: #E8F0FE;\n",
              "        border: none;\n",
              "        border-radius: 50%;\n",
              "        cursor: pointer;\n",
              "        display: none;\n",
              "        fill: #1967D2;\n",
              "        height: 32px;\n",
              "        padding: 0 0 0 0;\n",
              "        width: 32px;\n",
              "      }\n",
              "\n",
              "      .colab-df-generate:hover {\n",
              "        background-color: #E2EBFA;\n",
              "        box-shadow: 0px 1px 2px rgba(60, 64, 67, 0.3), 0px 1px 3px 1px rgba(60, 64, 67, 0.15);\n",
              "        fill: #174EA6;\n",
              "      }\n",
              "\n",
              "      [theme=dark] .colab-df-generate {\n",
              "        background-color: #3B4455;\n",
              "        fill: #D2E3FC;\n",
              "      }\n",
              "\n",
              "      [theme=dark] .colab-df-generate:hover {\n",
              "        background-color: #434B5C;\n",
              "        box-shadow: 0px 1px 3px 1px rgba(0, 0, 0, 0.15);\n",
              "        filter: drop-shadow(0px 1px 2px rgba(0, 0, 0, 0.3));\n",
              "        fill: #FFFFFF;\n",
              "      }\n",
              "    </style>\n",
              "    <button class=\"colab-df-generate\" onclick=\"generateWithVariable('data')\"\n",
              "            title=\"Generate code using this dataframe.\"\n",
              "            style=\"display:none;\">\n",
              "\n",
              "  <svg xmlns=\"http://www.w3.org/2000/svg\" height=\"24px\"viewBox=\"0 0 24 24\"\n",
              "       width=\"24px\">\n",
              "    <path d=\"M7,19H8.4L18.45,9,17,7.55,7,17.6ZM5,21V16.75L18.45,3.32a2,2,0,0,1,2.83,0l1.4,1.43a1.91,1.91,0,0,1,.58,1.4,1.91,1.91,0,0,1-.58,1.4L9.25,21ZM18.45,9,17,7.55Zm-12,3A5.31,5.31,0,0,0,4.9,8.1,5.31,5.31,0,0,0,1,6.5,5.31,5.31,0,0,0,4.9,4.9,5.31,5.31,0,0,0,6.5,1,5.31,5.31,0,0,0,8.1,4.9,5.31,5.31,0,0,0,12,6.5,5.46,5.46,0,0,0,6.5,12Z\"/>\n",
              "  </svg>\n",
              "    </button>\n",
              "    <script>\n",
              "      (() => {\n",
              "      const buttonEl =\n",
              "        document.querySelector('#id_34bddcd6-8487-4b66-a736-450fd47fab59 button.colab-df-generate');\n",
              "      buttonEl.style.display =\n",
              "        google.colab.kernel.accessAllowed ? 'block' : 'none';\n",
              "\n",
              "      buttonEl.onclick = () => {\n",
              "        google.colab.notebook.generateWithVariable('data');\n",
              "      }\n",
              "      })();\n",
              "    </script>\n",
              "  </div>\n",
              "\n",
              "    </div>\n",
              "  </div>\n"
            ],
            "application/vnd.google.colaboratory.intrinsic+json": {
              "type": "dataframe",
              "variable_name": "data"
            }
          },
          "metadata": {},
          "execution_count": 47
        }
      ]
    },
    {
      "cell_type": "markdown",
      "source": [],
      "metadata": {
        "id": "1-MxiRzMZrf7"
      }
    },
    {
      "cell_type": "code",
      "source": [
        "data.info()"
      ],
      "metadata": {
        "colab": {
          "base_uri": "https://localhost:8080/"
        },
        "id": "dyYYXbTwZ21x",
        "outputId": "1344e5f3-04c1-4e35-86eb-151cce553ec9"
      },
      "execution_count": null,
      "outputs": [
        {
          "output_type": "stream",
          "name": "stdout",
          "text": [
            "<class 'pandas.core.frame.DataFrame'>\n",
            "RangeIndex: 48698 entries, 0 to 48697\n",
            "Data columns (total 24 columns):\n",
            " #   Column                    Non-Null Count  Dtype  \n",
            "---  ------                    --------------  -----  \n",
            " 0   Employee ID               48698 non-null  int64  \n",
            " 1   Age                       48698 non-null  int64  \n",
            " 2   Gender                    48698 non-null  object \n",
            " 3   Years at Company          48698 non-null  int64  \n",
            " 4   Job Role                  48698 non-null  object \n",
            " 5   Monthly Income            48698 non-null  int64  \n",
            " 6   Work-Life Balance         48694 non-null  object \n",
            " 7   Job Satisfaction          48698 non-null  object \n",
            " 8   Performance Rating        48694 non-null  object \n",
            " 9   Number of Promotions      48693 non-null  float64\n",
            " 10  Overtime                  48698 non-null  object \n",
            " 11  Distance from Home        48698 non-null  int64  \n",
            " 12  Education Level           48693 non-null  object \n",
            " 13  Marital Status            48694 non-null  object \n",
            " 14  Number of Dependents      48692 non-null  float64\n",
            " 15  Job Level                 48693 non-null  object \n",
            " 16  Company Size              48696 non-null  object \n",
            " 17  Company Tenure            48698 non-null  int64  \n",
            " 18  Remote Work               48695 non-null  object \n",
            " 19  Leadership Opportunities  48698 non-null  object \n",
            " 20  Innovation Opportunities  48698 non-null  object \n",
            " 21  Company Reputation        48698 non-null  object \n",
            " 22  Employee Recognition      48696 non-null  object \n",
            " 23  Attrition                 48698 non-null  object \n",
            "dtypes: float64(2), int64(6), object(16)\n",
            "memory usage: 8.9+ MB\n"
          ]
        }
      ]
    },
    {
      "cell_type": "code",
      "source": [
        "data.shape"
      ],
      "metadata": {
        "colab": {
          "base_uri": "https://localhost:8080/"
        },
        "id": "TbBim_B2Z_zL",
        "outputId": "228be2da-afa2-4c89-de2d-dd83cc84ba54"
      },
      "execution_count": null,
      "outputs": [
        {
          "output_type": "execute_result",
          "data": {
            "text/plain": [
              "(48698, 24)"
            ]
          },
          "metadata": {},
          "execution_count": 9
        }
      ]
    },
    {
      "cell_type": "markdown",
      "source": [
        " ** count of unique values in the variables**"
      ],
      "metadata": {
        "id": "8yoRYcJQcRhW"
      }
    },
    {
      "cell_type": "code",
      "source": [
        "\n",
        "data.nunique()"
      ],
      "metadata": {
        "colab": {
          "base_uri": "https://localhost:8080/"
        },
        "id": "gDAIcwWJaMWV",
        "outputId": "ad1c52dc-efc2-49f5-f8d2-01e44cd4567f"
      },
      "execution_count": null,
      "outputs": [
        {
          "output_type": "execute_result",
          "data": {
            "text/plain": [
              "Employee ID                 48698\n",
              "Age                            42\n",
              "Gender                          2\n",
              "Years at Company               51\n",
              "Job Role                        5\n",
              "Monthly Income               9295\n",
              "Work-Life Balance               4\n",
              "Job Satisfaction                4\n",
              "Performance Rating              4\n",
              "Number of Promotions            5\n",
              "Overtime                        2\n",
              "Distance from Home             99\n",
              "Education Level                 5\n",
              "Marital Status                  3\n",
              "Number of Dependents            7\n",
              "Job Level                       3\n",
              "Company Size                    3\n",
              "Company Tenure                127\n",
              "Remote Work                     2\n",
              "Leadership Opportunities        2\n",
              "Innovation Opportunities        2\n",
              "Company Reputation              4\n",
              "Employee Recognition            4\n",
              "Attrition                       3\n",
              "dtype: int64"
            ]
          },
          "metadata": {},
          "execution_count": 10
        }
      ]
    },
    {
      "cell_type": "markdown",
      "source": [
        "**Check for null values**"
      ],
      "metadata": {
        "id": "X6DZDFwQaXOt"
      }
    },
    {
      "cell_type": "code",
      "source": [
        "data.isnull().sum()"
      ],
      "metadata": {
        "colab": {
          "base_uri": "https://localhost:8080/"
        },
        "id": "i436KIeHaOzx",
        "outputId": "5531a1cd-f2d0-4707-f989-a064e709983f"
      },
      "execution_count": null,
      "outputs": [
        {
          "output_type": "execute_result",
          "data": {
            "text/plain": [
              "Employee ID                 0\n",
              "Age                         0\n",
              "Gender                      0\n",
              "Years at Company            0\n",
              "Job Role                    0\n",
              "Monthly Income              0\n",
              "Work-Life Balance           4\n",
              "Job Satisfaction            0\n",
              "Performance Rating          4\n",
              "Number of Promotions        5\n",
              "Overtime                    0\n",
              "Distance from Home          0\n",
              "Education Level             5\n",
              "Marital Status              4\n",
              "Number of Dependents        6\n",
              "Job Level                   5\n",
              "Company Size                2\n",
              "Company Tenure              0\n",
              "Remote Work                 3\n",
              "Leadership Opportunities    0\n",
              "Innovation Opportunities    0\n",
              "Company Reputation          0\n",
              "Employee Recognition        2\n",
              "Attrition                   0\n",
              "dtype: int64"
            ]
          },
          "metadata": {},
          "execution_count": 11
        }
      ]
    },
    {
      "cell_type": "code",
      "source": [
        "data.dtypes.value_counts()"
      ],
      "metadata": {
        "colab": {
          "base_uri": "https://localhost:8080/"
        },
        "id": "tcPMXG00bn0K",
        "outputId": "82931a0e-2b2f-40e6-b5d1-6dbb831f89bf"
      },
      "execution_count": null,
      "outputs": [
        {
          "output_type": "execute_result",
          "data": {
            "text/plain": [
              "object     16\n",
              "int64       6\n",
              "float64     2\n",
              "Name: count, dtype: int64"
            ]
          },
          "metadata": {},
          "execution_count": 13
        }
      ]
    },
    {
      "cell_type": "markdown",
      "source": [
        "# **Data Understanding and EDA**"
      ],
      "metadata": {
        "id": "2n2bBDaEbYqC"
      }
    },
    {
      "cell_type": "markdown",
      "source": [
        "**Attrition Rate**"
      ],
      "metadata": {
        "id": "DwPzSKoGbSWw"
      }
    },
    {
      "cell_type": "code",
      "source": [
        "data[\"Attrition\"].value_counts().reset_index()"
      ],
      "metadata": {
        "colab": {
          "base_uri": "https://localhost:8080/",
          "height": 143
        },
        "id": "BdOPC8vJakZA",
        "outputId": "62c08c5d-a258-43fe-dfd2-8d5760f32825"
      },
      "execution_count": null,
      "outputs": [
        {
          "output_type": "execute_result",
          "data": {
            "text/plain": [
              "  Attrition  count\n",
              "0    Stayed  25570\n",
              "1      Left  23127\n",
              "2      Stay      1"
            ],
            "text/html": [
              "\n",
              "  <div id=\"df-9989adc3-5845-497d-910c-f69f02df2943\" class=\"colab-df-container\">\n",
              "    <div>\n",
              "<style scoped>\n",
              "    .dataframe tbody tr th:only-of-type {\n",
              "        vertical-align: middle;\n",
              "    }\n",
              "\n",
              "    .dataframe tbody tr th {\n",
              "        vertical-align: top;\n",
              "    }\n",
              "\n",
              "    .dataframe thead th {\n",
              "        text-align: right;\n",
              "    }\n",
              "</style>\n",
              "<table border=\"1\" class=\"dataframe\">\n",
              "  <thead>\n",
              "    <tr style=\"text-align: right;\">\n",
              "      <th></th>\n",
              "      <th>Attrition</th>\n",
              "      <th>count</th>\n",
              "    </tr>\n",
              "  </thead>\n",
              "  <tbody>\n",
              "    <tr>\n",
              "      <th>0</th>\n",
              "      <td>Stayed</td>\n",
              "      <td>25570</td>\n",
              "    </tr>\n",
              "    <tr>\n",
              "      <th>1</th>\n",
              "      <td>Left</td>\n",
              "      <td>23127</td>\n",
              "    </tr>\n",
              "    <tr>\n",
              "      <th>2</th>\n",
              "      <td>Stay</td>\n",
              "      <td>1</td>\n",
              "    </tr>\n",
              "  </tbody>\n",
              "</table>\n",
              "</div>\n",
              "    <div class=\"colab-df-buttons\">\n",
              "\n",
              "  <div class=\"colab-df-container\">\n",
              "    <button class=\"colab-df-convert\" onclick=\"convertToInteractive('df-9989adc3-5845-497d-910c-f69f02df2943')\"\n",
              "            title=\"Convert this dataframe to an interactive table.\"\n",
              "            style=\"display:none;\">\n",
              "\n",
              "  <svg xmlns=\"http://www.w3.org/2000/svg\" height=\"24px\" viewBox=\"0 -960 960 960\">\n",
              "    <path d=\"M120-120v-720h720v720H120Zm60-500h600v-160H180v160Zm220 220h160v-160H400v160Zm0 220h160v-160H400v160ZM180-400h160v-160H180v160Zm440 0h160v-160H620v160ZM180-180h160v-160H180v160Zm440 0h160v-160H620v160Z\"/>\n",
              "  </svg>\n",
              "    </button>\n",
              "\n",
              "  <style>\n",
              "    .colab-df-container {\n",
              "      display:flex;\n",
              "      gap: 12px;\n",
              "    }\n",
              "\n",
              "    .colab-df-convert {\n",
              "      background-color: #E8F0FE;\n",
              "      border: none;\n",
              "      border-radius: 50%;\n",
              "      cursor: pointer;\n",
              "      display: none;\n",
              "      fill: #1967D2;\n",
              "      height: 32px;\n",
              "      padding: 0 0 0 0;\n",
              "      width: 32px;\n",
              "    }\n",
              "\n",
              "    .colab-df-convert:hover {\n",
              "      background-color: #E2EBFA;\n",
              "      box-shadow: 0px 1px 2px rgba(60, 64, 67, 0.3), 0px 1px 3px 1px rgba(60, 64, 67, 0.15);\n",
              "      fill: #174EA6;\n",
              "    }\n",
              "\n",
              "    .colab-df-buttons div {\n",
              "      margin-bottom: 4px;\n",
              "    }\n",
              "\n",
              "    [theme=dark] .colab-df-convert {\n",
              "      background-color: #3B4455;\n",
              "      fill: #D2E3FC;\n",
              "    }\n",
              "\n",
              "    [theme=dark] .colab-df-convert:hover {\n",
              "      background-color: #434B5C;\n",
              "      box-shadow: 0px 1px 3px 1px rgba(0, 0, 0, 0.15);\n",
              "      filter: drop-shadow(0px 1px 2px rgba(0, 0, 0, 0.3));\n",
              "      fill: #FFFFFF;\n",
              "    }\n",
              "  </style>\n",
              "\n",
              "    <script>\n",
              "      const buttonEl =\n",
              "        document.querySelector('#df-9989adc3-5845-497d-910c-f69f02df2943 button.colab-df-convert');\n",
              "      buttonEl.style.display =\n",
              "        google.colab.kernel.accessAllowed ? 'block' : 'none';\n",
              "\n",
              "      async function convertToInteractive(key) {\n",
              "        const element = document.querySelector('#df-9989adc3-5845-497d-910c-f69f02df2943');\n",
              "        const dataTable =\n",
              "          await google.colab.kernel.invokeFunction('convertToInteractive',\n",
              "                                                    [key], {});\n",
              "        if (!dataTable) return;\n",
              "\n",
              "        const docLinkHtml = 'Like what you see? Visit the ' +\n",
              "          '<a target=\"_blank\" href=https://colab.research.google.com/notebooks/data_table.ipynb>data table notebook</a>'\n",
              "          + ' to learn more about interactive tables.';\n",
              "        element.innerHTML = '';\n",
              "        dataTable['output_type'] = 'display_data';\n",
              "        await google.colab.output.renderOutput(dataTable, element);\n",
              "        const docLink = document.createElement('div');\n",
              "        docLink.innerHTML = docLinkHtml;\n",
              "        element.appendChild(docLink);\n",
              "      }\n",
              "    </script>\n",
              "  </div>\n",
              "\n",
              "\n",
              "<div id=\"df-8aec87bd-c929-413f-a9bf-c63446c31885\">\n",
              "  <button class=\"colab-df-quickchart\" onclick=\"quickchart('df-8aec87bd-c929-413f-a9bf-c63446c31885')\"\n",
              "            title=\"Suggest charts\"\n",
              "            style=\"display:none;\">\n",
              "\n",
              "<svg xmlns=\"http://www.w3.org/2000/svg\" height=\"24px\"viewBox=\"0 0 24 24\"\n",
              "     width=\"24px\">\n",
              "    <g>\n",
              "        <path d=\"M19 3H5c-1.1 0-2 .9-2 2v14c0 1.1.9 2 2 2h14c1.1 0 2-.9 2-2V5c0-1.1-.9-2-2-2zM9 17H7v-7h2v7zm4 0h-2V7h2v10zm4 0h-2v-4h2v4z\"/>\n",
              "    </g>\n",
              "</svg>\n",
              "  </button>\n",
              "\n",
              "<style>\n",
              "  .colab-df-quickchart {\n",
              "      --bg-color: #E8F0FE;\n",
              "      --fill-color: #1967D2;\n",
              "      --hover-bg-color: #E2EBFA;\n",
              "      --hover-fill-color: #174EA6;\n",
              "      --disabled-fill-color: #AAA;\n",
              "      --disabled-bg-color: #DDD;\n",
              "  }\n",
              "\n",
              "  [theme=dark] .colab-df-quickchart {\n",
              "      --bg-color: #3B4455;\n",
              "      --fill-color: #D2E3FC;\n",
              "      --hover-bg-color: #434B5C;\n",
              "      --hover-fill-color: #FFFFFF;\n",
              "      --disabled-bg-color: #3B4455;\n",
              "      --disabled-fill-color: #666;\n",
              "  }\n",
              "\n",
              "  .colab-df-quickchart {\n",
              "    background-color: var(--bg-color);\n",
              "    border: none;\n",
              "    border-radius: 50%;\n",
              "    cursor: pointer;\n",
              "    display: none;\n",
              "    fill: var(--fill-color);\n",
              "    height: 32px;\n",
              "    padding: 0;\n",
              "    width: 32px;\n",
              "  }\n",
              "\n",
              "  .colab-df-quickchart:hover {\n",
              "    background-color: var(--hover-bg-color);\n",
              "    box-shadow: 0 1px 2px rgba(60, 64, 67, 0.3), 0 1px 3px 1px rgba(60, 64, 67, 0.15);\n",
              "    fill: var(--button-hover-fill-color);\n",
              "  }\n",
              "\n",
              "  .colab-df-quickchart-complete:disabled,\n",
              "  .colab-df-quickchart-complete:disabled:hover {\n",
              "    background-color: var(--disabled-bg-color);\n",
              "    fill: var(--disabled-fill-color);\n",
              "    box-shadow: none;\n",
              "  }\n",
              "\n",
              "  .colab-df-spinner {\n",
              "    border: 2px solid var(--fill-color);\n",
              "    border-color: transparent;\n",
              "    border-bottom-color: var(--fill-color);\n",
              "    animation:\n",
              "      spin 1s steps(1) infinite;\n",
              "  }\n",
              "\n",
              "  @keyframes spin {\n",
              "    0% {\n",
              "      border-color: transparent;\n",
              "      border-bottom-color: var(--fill-color);\n",
              "      border-left-color: var(--fill-color);\n",
              "    }\n",
              "    20% {\n",
              "      border-color: transparent;\n",
              "      border-left-color: var(--fill-color);\n",
              "      border-top-color: var(--fill-color);\n",
              "    }\n",
              "    30% {\n",
              "      border-color: transparent;\n",
              "      border-left-color: var(--fill-color);\n",
              "      border-top-color: var(--fill-color);\n",
              "      border-right-color: var(--fill-color);\n",
              "    }\n",
              "    40% {\n",
              "      border-color: transparent;\n",
              "      border-right-color: var(--fill-color);\n",
              "      border-top-color: var(--fill-color);\n",
              "    }\n",
              "    60% {\n",
              "      border-color: transparent;\n",
              "      border-right-color: var(--fill-color);\n",
              "    }\n",
              "    80% {\n",
              "      border-color: transparent;\n",
              "      border-right-color: var(--fill-color);\n",
              "      border-bottom-color: var(--fill-color);\n",
              "    }\n",
              "    90% {\n",
              "      border-color: transparent;\n",
              "      border-bottom-color: var(--fill-color);\n",
              "    }\n",
              "  }\n",
              "</style>\n",
              "\n",
              "  <script>\n",
              "    async function quickchart(key) {\n",
              "      const quickchartButtonEl =\n",
              "        document.querySelector('#' + key + ' button');\n",
              "      quickchartButtonEl.disabled = true;  // To prevent multiple clicks.\n",
              "      quickchartButtonEl.classList.add('colab-df-spinner');\n",
              "      try {\n",
              "        const charts = await google.colab.kernel.invokeFunction(\n",
              "            'suggestCharts', [key], {});\n",
              "      } catch (error) {\n",
              "        console.error('Error during call to suggestCharts:', error);\n",
              "      }\n",
              "      quickchartButtonEl.classList.remove('colab-df-spinner');\n",
              "      quickchartButtonEl.classList.add('colab-df-quickchart-complete');\n",
              "    }\n",
              "    (() => {\n",
              "      let quickchartButtonEl =\n",
              "        document.querySelector('#df-8aec87bd-c929-413f-a9bf-c63446c31885 button');\n",
              "      quickchartButtonEl.style.display =\n",
              "        google.colab.kernel.accessAllowed ? 'block' : 'none';\n",
              "    })();\n",
              "  </script>\n",
              "</div>\n",
              "\n",
              "    </div>\n",
              "  </div>\n"
            ],
            "application/vnd.google.colaboratory.intrinsic+json": {
              "type": "dataframe",
              "summary": "{\n  \"name\": \"data[\\\"Attrition\\\"]\",\n  \"rows\": 3,\n  \"fields\": [\n    {\n      \"column\": \"Attrition\",\n      \"properties\": {\n        \"dtype\": \"string\",\n        \"num_unique_values\": 3,\n        \"samples\": [\n          \"Stayed\",\n          \"Left\",\n          \"Stay\"\n        ],\n        \"semantic_type\": \"\",\n        \"description\": \"\"\n      }\n    },\n    {\n      \"column\": \"count\",\n      \"properties\": {\n        \"dtype\": \"number\",\n        \"std\": 14110,\n        \"min\": 1,\n        \"max\": 25570,\n        \"num_unique_values\": 3,\n        \"samples\": [\n          25570,\n          23127,\n          1\n        ],\n        \"semantic_type\": \"\",\n        \"description\": \"\"\n      }\n    }\n  ]\n}"
            }
          },
          "metadata": {},
          "execution_count": 12
        }
      ]
    },
    {
      "cell_type": "code",
      "source": [
        "data[\"Employee ID\"].nunique()"
      ],
      "metadata": {
        "colab": {
          "base_uri": "https://localhost:8080/"
        },
        "id": "H_iah1VBc_m7",
        "outputId": "a3ce8e8f-c768-4add-d6f7-188607a23320"
      },
      "execution_count": null,
      "outputs": [
        {
          "output_type": "execute_result",
          "data": {
            "text/plain": [
              "48698"
            ]
          },
          "metadata": {},
          "execution_count": 16
        }
      ]
    },
    {
      "cell_type": "markdown",
      "source": [
        "# Years at Company"
      ],
      "metadata": {
        "id": "UYShZDKzfzUb"
      }
    },
    {
      "cell_type": "code",
      "source": [
        "sns.set_theme(rc={'figure.figsize':(8,5)}) # Figsize can be edited if charts are too large\n",
        "ax1=sns.displot(data=data,x=\"Years at Company\",bins=61,height=6, aspect=11.7/8)\n",
        "ax1.figure.suptitle(\"count by Years at company\")"
      ],
      "metadata": {
        "colab": {
          "base_uri": "https://localhost:8080/",
          "height": 625
        },
        "id": "7KABlNiYdNxq",
        "outputId": "4103addd-927d-4221-966b-0fe16e562845"
      },
      "execution_count": null,
      "outputs": [
        {
          "output_type": "execute_result",
          "data": {
            "text/plain": [
              "Text(0.5, 0.98, 'count by Years at company')"
            ]
          },
          "metadata": {},
          "execution_count": 25
        },
        {
          "output_type": "display_data",
          "data": {
            "text/plain": [
              "<Figure size 877.5x600 with 1 Axes>"
            ],
            "image/png": "[encoded data removed]"
          },
          "metadata": {}
        }
      ]
    },
    {
      "cell_type": "code",
      "source": [
        "ax2=sns.displot(data=data,x=\"Years at Company\",bins=61,hue=\"Attrition\", multiple='dodge',height=6, aspect=11.7/8)\n",
        "ax2.tick_params(axis='x', rotation=90)\n",
        "ax2.figure.suptitle(\"Customers attrition by Years at company\")\n",
        "plt.show()"
      ],
      "metadata": {
        "colab": {
          "base_uri": "https://localhost:8080/",
          "height": 611
        },
        "id": "KS-NhLLLgGX4",
        "outputId": "6b8f1b9d-d98b-4779-9a9a-72e9072e007e"
      },
      "execution_count": null,
      "outputs": [
        {
          "output_type": "display_data",
          "data": {
            "text/plain": [
              "<Figure size 985.875x600 with 1 Axes>"
            ],
            "image/png": "[encoded data removed]"
          },
          "metadata": {}
        }
      ]
    },
    {
      "cell_type": "code",
      "source": [
        "ax3=sns.countplot(x=\"Number of Promotions\",hue ='Attrition', data=data)\n",
        "ax3.set_title(\"Employee attrition by number of promotions\")\n",
        "ax3.bar_label(ax3.containers[0])\n",
        "ax3.bar_label(ax3.containers[1])\n",
        "plt.show()"
      ],
      "metadata": {
        "colab": {
          "base_uri": "https://localhost:8080/",
          "height": 496
        },
        "id": "o2b7louvgqqa",
        "outputId": "a036f191-8704-48e3-bde0-437b05ab394f"
      },
      "execution_count": null,
      "outputs": [
        {
          "output_type": "display_data",
          "data": {
            "text/plain": [
              "<Figure size 800x500 with 1 Axes>"
            ],
            "image/png": "[encoded data removed]"
          },
          "metadata": {}
        }
      ]
    },
    {
      "cell_type": "code",
      "source": [
        "plt.figure(figsize=(10, 6))\n",
        "sns.countplot(x='Job Role', hue='Attrition', data=data, palette='Set1')\n",
        "plt.title('Attrition Analysis by Job role')\n",
        "plt.xlabel('Job Role')\n",
        "plt.ylabel('Count')\n",
        "plt.legend(title='Churned', labels=['Stayed', 'Left'])\n",
        "plt.show()"
      ],
      "metadata": {
        "colab": {
          "base_uri": "https://localhost:8080/",
          "height": 573
        },
        "id": "g67rkJY6iyQb",
        "outputId": "0da5eca5-139e-4f65-cc81-b6751785f1a6"
      },
      "execution_count": null,
      "outputs": [
        {
          "output_type": "display_data",
          "data": {
            "text/plain": [
              "<Figure size 1000x600 with 1 Axes>"
            ],
            "image/png": "[encoded data removed]"
          },
          "metadata": {}
        }
      ]
    },
    {
      "cell_type": "markdown",
      "source": [
        "**Gender**"
      ],
      "metadata": {
        "id": "vyf6bKMZkULh"
      }
    },
    {
      "cell_type": "code",
      "source": [
        "gender_counts = data['Gender'].value_counts()\n",
        "print(gender_counts)"
      ],
      "metadata": {
        "colab": {
          "base_uri": "https://localhost:8080/"
        },
        "id": "7QdrKEKNkApp",
        "outputId": "72962c1a-2289-4951-d9db-c7ed6e3aacc7"
      },
      "execution_count": null,
      "outputs": [
        {
          "output_type": "stream",
          "name": "stdout",
          "text": [
            "Gender\n",
            "Male      26710\n",
            "Female    21988\n",
            "Name: count, dtype: int64\n"
          ]
        }
      ]
    },
    {
      "cell_type": "code",
      "source": [
        "gender_churn_crosstab = pd.crosstab(data['Gender'], data['Attrition'])\n",
        "print(gender_churn_crosstab)"
      ],
      "metadata": {
        "colab": {
          "base_uri": "https://localhost:8080/"
        },
        "id": "2t46hFOIkLJV",
        "outputId": "96e9267b-853a-4b03-8e80-ad25504b240a"
      },
      "execution_count": null,
      "outputs": [
        {
          "output_type": "stream",
          "name": "stdout",
          "text": [
            "Attrition   Left  Stay  Stayed\n",
            "Gender                        \n",
            "Female     11660     0   10328\n",
            "Male       11467     1   15242\n"
          ]
        }
      ]
    },
    {
      "cell_type": "code",
      "source": [
        "data['Job Satisfaction'].describe()"
      ],
      "metadata": {
        "colab": {
          "base_uri": "https://localhost:8080/"
        },
        "id": "Jirvapq5mIBi",
        "outputId": "c75019f9-1831-4e01-bed8-407f4fb5069e"
      },
      "execution_count": null,
      "outputs": [
        {
          "output_type": "execute_result",
          "data": {
            "text/plain": [
              "count     48698\n",
              "unique        4\n",
              "top        High\n",
              "freq      24335\n",
              "Name: Job Satisfaction, dtype: object"
            ]
          },
          "metadata": {},
          "execution_count": 41
        }
      ]
    },
    {
      "cell_type": "code",
      "source": [
        "data['Job Satisfaction'].value_counts()"
      ],
      "metadata": {
        "colab": {
          "base_uri": "https://localhost:8080/"
        },
        "id": "TYRSDDFgmmHD",
        "outputId": "d69697e8-846c-4212-830c-f2c2d99cc05a"
      },
      "execution_count": null,
      "outputs": [
        {
          "output_type": "execute_result",
          "data": {
            "text/plain": [
              "Job Satisfaction\n",
              "High         24335\n",
              "Very High     9906\n",
              "Medium        9666\n",
              "Low           4791\n",
              "Name: count, dtype: int64"
            ]
          },
          "metadata": {},
          "execution_count": 42
        }
      ]
    },
    {
      "cell_type": "code",
      "source": [
        "data['Performance Rating'].value_counts()"
      ],
      "metadata": {
        "colab": {
          "base_uri": "https://localhost:8080/"
        },
        "id": "YOr6eHeYmtN2",
        "outputId": "a6b9f7a3-d0de-4cd4-fe0a-fcd3ca55d1f0"
      },
      "execution_count": null,
      "outputs": [
        {
          "output_type": "execute_result",
          "data": {
            "text/plain": [
              "Performance Rating\n",
              "Average          29258\n",
              "High              9734\n",
              "Below Average     7299\n",
              "Low               2403\n",
              "Name: count, dtype: int64"
            ]
          },
          "metadata": {},
          "execution_count": 43
        }
      ]
    },
    {
      "cell_type": "code",
      "source": [
        "sns.countplot(x='Performance Rating', hue='Attrition', data=data)\n",
        "plt.title('Performance Rating vs Attrition')\n",
        "plt.xlabel('Performance rating')\n",
        "plt.ylabel('Count')\n",
        "pl1=plt.gca()\n",
        "pl1.bar_label(pl1.containers[0])\n",
        "pl1.bar_label(pl1.containers[1])\n",
        "plt.xticks(rotation=45)\n",
        "plt.show()"
      ],
      "metadata": {
        "colab": {
          "base_uri": "https://localhost:8080/",
          "height": 572
        },
        "id": "VAObseGfm-_E",
        "outputId": "26be6c44-d496-4258-8f0a-975587121db9"
      },
      "execution_count": 48,
      "outputs": [
        {
          "output_type": "display_data",
          "data": {
            "text/plain": [
              "<Figure size 800x500 with 1 Axes>"
            ],
            "image/png": "[encoded data removed]"
          },
          "metadata": {}
        }
      ]
    },
    {
      "cell_type": "code",
      "source": [
        "data['Work-Life Balance'].value_counts()"
      ],
      "metadata": {
        "id": "78hVmgdxnyRq",
        "colab": {
          "base_uri": "https://localhost:8080/"
        },
        "outputId": "2c8b5bf6-0e7c-457c-ce8f-2e3f769ecf88"
      },
      "execution_count": 49,
      "outputs": [
        {
          "output_type": "execute_result",
          "data": {
            "text/plain": [
              "Work-Life Balance\n",
              "Good         18405\n",
              "Fair         14777\n",
              "Excellent     8760\n",
              "Poor          6752\n",
              "Name: count, dtype: int64"
            ]
          },
          "metadata": {},
          "execution_count": 49
        }
      ]
    },
    {
      "cell_type": "code",
      "source": [
        "data['Marital Status'].value_counts()"
      ],
      "metadata": {
        "colab": {
          "base_uri": "https://localhost:8080/"
        },
        "id": "Lsm9vgCTpDts",
        "outputId": "2b5e305a-aa86-4f25-b99b-a484f8e165bf"
      },
      "execution_count": 51,
      "outputs": [
        {
          "output_type": "execute_result",
          "data": {
            "text/plain": [
              "Marital Status\n",
              "Married     24481\n",
              "Single      16982\n",
              "Divorced     7231\n",
              "Name: count, dtype: int64"
            ]
          },
          "metadata": {},
          "execution_count": 51
        }
      ]
    },
    {
      "cell_type": "code",
      "source": [
        "plt.figure(figsize=(6, 4))\n",
        "sns.countplot(data=data, x='Marital Status', hue='Attrition')\n",
        "plt.title('Marital Status vs Attrition')\n",
        "plt.xlabel('Marital Status')\n",
        "plt.ylabel('Count')\n",
        "plt.legend(title='Attrition',fontsize='small')\n",
        "plt.show()"
      ],
      "metadata": {
        "colab": {
          "base_uri": "https://localhost:8080/",
          "height": 419
        },
        "id": "16iVoJSJpNwa",
        "outputId": "10682955-821c-46f3-bbfb-58f34995c319"
      },
      "execution_count": 54,
      "outputs": [
        {
          "output_type": "display_data",
          "data": {
            "text/plain": [
              "<Figure size 600x400 with 1 Axes>"
            ],
            "image/png": "[encoded data removed]"
          },
          "metadata": {}
        }
      ]
    },
    {
      "cell_type": "markdown",
      "source": [
        "**Data Preprocessing**"
      ],
      "metadata": {
        "id": "LJBUNnO2qFE0"
      }
    },
    {
      "cell_type": "markdown",
      "source": [
        "Finding Missing Values"
      ],
      "metadata": {
        "id": "PN2Dkowwqbsv"
      }
    },
    {
      "cell_type": "code",
      "source": [
        "data.isnull().sum()"
      ],
      "metadata": {
        "colab": {
          "base_uri": "https://localhost:8080/"
        },
        "id": "BB2jCQ-Pporn",
        "outputId": "d50149ac-d746-44d6-dbe9-18b4ce73bf90"
      },
      "execution_count": 55,
      "outputs": [
        {
          "output_type": "execute_result",
          "data": {
            "text/plain": [
              "Employee ID                 0\n",
              "Age                         0\n",
              "Gender                      0\n",
              "Years at Company            0\n",
              "Job Role                    0\n",
              "Monthly Income              0\n",
              "Work-Life Balance           4\n",
              "Job Satisfaction            0\n",
              "Performance Rating          4\n",
              "Number of Promotions        5\n",
              "Overtime                    0\n",
              "Distance from Home          0\n",
              "Education Level             5\n",
              "Marital Status              4\n",
              "Number of Dependents        6\n",
              "Job Level                   5\n",
              "Company Size                2\n",
              "Company Tenure              0\n",
              "Remote Work                 3\n",
              "Leadership Opportunities    0\n",
              "Innovation Opportunities    0\n",
              "Company Reputation          0\n",
              "Employee Recognition        2\n",
              "Attrition                   0\n",
              "dtype: int64"
            ]
          },
          "metadata": {},
          "execution_count": 55
        }
      ]
    },
    {
      "cell_type": "markdown",
      "source": [
        "Fill Missing values"
      ],
      "metadata": {
        "id": "InB6OH9Txee5"
      }
    },
    {
      "cell_type": "code",
      "source": [
        "data['Performance Rating'].fillna(data['Performance Rating'].mode()[0], inplace=True)\n",
        "data['Job Satisfaction'].fillna(data['Job Satisfaction'].mode()[0], inplace=True)\n",
        "data['Work-Life Balance'].fillna(data['Work-Life Balance'].mode()[0], inplace=True)\n",
        "data['Company Size'].fillna(data['Company Size'].mode()[0], inplace=True)\n",
        "data['Education Level'].fillna(data['Education Level'].mode()[0], inplace=True)\n",
        "data['Employee Recognition'].fillna(data['Employee Recognition'].mode()[0], inplace=True)\n",
        "data['Remote Work'].fillna(data['Remote Work'].mode()[0], inplace=True)\n",
        "data['Job Level'].fillna(data['Job Level'].mode()[0], inplace=True)\n",
        "data['Marital Status'].fillna(data['Marital Status'].mode()[0], inplace=True)\n",
        "data['Number of Dependents'].fillna(data['Number of Dependents'].median(), inplace=True)\n",
        "data['Number of Promotions'].fillna(data['Number of Promotions'].median(), inplace=True)\n",
        "data.isnull().sum()"
      ],
      "metadata": {
        "colab": {
          "base_uri": "https://localhost:8080/"
        },
        "id": "xHLoKrYxtPtO",
        "outputId": "44794502-c6fc-4052-9bd4-8624d029e53e"
      },
      "execution_count": 82,
      "outputs": [
        {
          "output_type": "execute_result",
          "data": {
            "text/plain": [
              "Employee ID                 0\n",
              "Age                         0\n",
              "Gender                      0\n",
              "Years at Company            0\n",
              "Job Role                    0\n",
              "Monthly Income              0\n",
              "Work-Life Balance           0\n",
              "Job Satisfaction            0\n",
              "Performance Rating          0\n",
              "Number of Promotions        0\n",
              "Overtime                    0\n",
              "Distance from Home          0\n",
              "Education Level             0\n",
              "Marital Status              0\n",
              "Number of Dependents        0\n",
              "Job Level                   0\n",
              "Company Size                0\n",
              "Company Tenure              0\n",
              "Remote Work                 0\n",
              "Leadership Opportunities    0\n",
              "Innovation Opportunities    0\n",
              "Company Reputation          0\n",
              "Employee Recognition        0\n",
              "Attrition                   0\n",
              "dtype: int64"
            ]
          },
          "metadata": {},
          "execution_count": 82
        }
      ]
    },
    {
      "cell_type": "markdown",
      "source": [
        "check for outliers"
      ],
      "metadata": {
        "id": "9N69r-02xhjl"
      }
    },
    {
      "cell_type": "code",
      "source": [
        "plt.figure(figsize=(8, 6))\n",
        "sns.boxplot(x=data['Years at Company'])\n",
        "plt.title('Box plot of Age')\n",
        "plt.xlabel('Years at company')\n",
        "plt.show()\n",
        "plt.figure(figsize=(8, 6))\n",
        "sns.boxplot(x=data['Monthly Income'])\n",
        "plt.title('Box plot of income')\n",
        "plt.xlabel('Monthly income')\n",
        "plt.show()\n"
      ],
      "metadata": {
        "colab": {
          "base_uri": "https://localhost:8080/",
          "height": 1000
        },
        "id": "I45Rgj1HwnqU",
        "outputId": "f8127192-ba22-4792-8101-f14bfffe7cb2"
      },
      "execution_count": 88,
      "outputs": [
        {
          "output_type": "display_data",
          "data": {
            "text/plain": [
              "<Figure size 800x600 with 1 Axes>"
            ],
            "image/png": "[encoded data removed]"
          },
          "metadata": {}
        },
        {
          "output_type": "display_data",
          "data": {
            "text/plain": [
              "<Figure size 800x600 with 1 Axes>"
            ],
            "image/png": "[encoded data removed]"
          },
          "metadata": {}
        }
      ]
    },
    {
      "cell_type": "code",
      "source": [
        "Q1 = data['Years at Company'].quantile(0.25)\n",
        "Q3 = data['Years at Company'].quantile(0.75)\n",
        "IQR = Q3 - Q1\n",
        "lower_bound_years = Q1 - 1.5 * IQR\n",
        "upper_bound_years = Q3 + 1.5 * IQR\n",
        "data_filtered_years = data[(data['Years at Company'] >= lower_bound_years) & (data['Years at Company'] <= upper_bound_years)]\n",
        "Q1_income = data['Monthly Income'].quantile(0.25)\n",
        "Q3_income = data['Monthly Income'].quantile(0.75)\n",
        "IQR_income = Q3_income - Q1_income\n",
        "lower_bound_income = Q1_income - 1.5 * IQR_income\n",
        "upper_bound_income = Q3_income + 1.5 * IQR_income\n",
        "data_filtered_income = data[(data['Monthly Income'] >= lower_bound_income) & (data['Monthly Income'] <= upper_bound_income)]"
      ],
      "metadata": {
        "id": "tZG9ot1vyTl6"
      },
      "execution_count": 91,
      "outputs": []
    },
    {
      "cell_type": "markdown",
      "source": [
        "# **Encoding**"
      ],
      "metadata": {
        "id": "P7iMru_Jz_2D"
      }
    },
    {
      "cell_type": "code",
      "source": [
        "# Select categorical columns\n",
        "categorical_columns = data.select_dtypes(include=['object']).columns\n",
        "categorical_columns"
      ],
      "metadata": {
        "colab": {
          "base_uri": "https://localhost:8080/"
        },
        "id": "AfPAd3L30Bh4",
        "outputId": "75d7d775-fb2c-4ce3-af2d-770cb4112196"
      },
      "execution_count": 92,
      "outputs": [
        {
          "output_type": "execute_result",
          "data": {
            "text/plain": [
              "Index(['Gender', 'Job Role', 'Work-Life Balance', 'Job Satisfaction',\n",
              "       'Performance Rating', 'Overtime', 'Education Level', 'Marital Status',\n",
              "       'Job Level', 'Company Size', 'Remote Work', 'Leadership Opportunities',\n",
              "       'Innovation Opportunities', 'Company Reputation',\n",
              "       'Employee Recognition', 'Attrition'],\n",
              "      dtype='object')"
            ]
          },
          "metadata": {},
          "execution_count": 92
        }
      ]
    },
    {
      "cell_type": "code",
      "source": [
        "# Creating a label encoder object\n",
        "le = LabelEncoder()\n",
        "\n",
        "# Applying label encoding to each specified column\n",
        "for column in categorical_columns:\n",
        "    data[column] = le.fit_transform(data[column])"
      ],
      "metadata": {
        "id": "moaUxXBu0H_6"
      },
      "execution_count": 95,
      "outputs": []
    },
    {
      "cell_type": "markdown",
      "source": [
        "Feature selection"
      ],
      "metadata": {
        "id": "KrbG3Qbv027V"
      }
    },
    {
      "cell_type": "code",
      "source": [
        "from sklearn.feature_selection import chi2"
      ],
      "metadata": {
        "id": "pfPRRVeQ0fpM"
      },
      "execution_count": 96,
      "outputs": []
    },
    {
      "cell_type": "code",
      "source": [
        "X = data[['Gender', 'Job Role', 'Work-Life Balance', 'Job Satisfaction',\n",
        "       'Performance Rating', 'Overtime', 'Education Level', 'Marital Status',\n",
        "       'Job Level', 'Company Size', 'Remote Work', 'Leadership Opportunities',\n",
        "       'Innovation Opportunities', 'Company Reputation',\n",
        "       'Employee Recognition']].values\n",
        "y = data['Attrition']\n",
        "\n",
        "# Apply Chi-Square test\n",
        "chi2_values, p_values = chi2(X, y)\n",
        "\n",
        "# Create a DataFrame to display the results\n",
        "chi2_df = pd.DataFrame({'Feature': ['Gender', 'Job Role', 'Work-Life Balance', 'Job Satisfaction',\n",
        "       'Performance Rating', 'Overtime', 'Education Level', 'Marital Status',\n",
        "       'Job Level', 'Company Size', 'Remote Work', 'Leadership Opportunities',\n",
        "       'Innovation Opportunities', 'Company Reputation',\n",
        "       'Employee Recognition'],\n",
        "                        'Chi2 Value': chi2_values,\n",
        "                        'p-value': p_values})\n",
        "\n",
        "# Sort by Chi2 value in descending order\n",
        "chi2_df = chi2_df.sort_values(by='Chi2 Value', ascending=False)\n",
        "\n",
        "print(chi2_df)"
      ],
      "metadata": {
        "colab": {
          "base_uri": "https://localhost:8080/"
        },
        "id": "94kah0Od06f1",
        "outputId": "5b74d929-4eb8-41c5-a309-578cbc77dac2"
      },
      "execution_count": 98,
      "outputs": [
        {
          "output_type": "stream",
          "name": "stdout",
          "text": [
            "                     Feature   Chi2 Value        p-value\n",
            "8                  Job Level  3414.925320   0.000000e+00\n",
            "10               Remote Work  1929.464230   0.000000e+00\n",
            "7             Marital Status   974.707579  2.212782e-212\n",
            "0                     Gender   222.936191   3.890641e-49\n",
            "3           Job Satisfaction   140.112371   3.758246e-31\n",
            "2          Work-Life Balance   110.366272   1.082103e-24\n",
            "6            Education Level    99.421797   2.575319e-22\n",
            "5                   Overtime    96.354832   1.193477e-21\n",
            "4         Performance Rating    68.556792   1.297423e-15\n",
            "13        Company Reputation    33.670983   4.880214e-08\n",
            "9               Company Size    19.567290   5.636598e-05\n",
            "12  Innovation Opportunities    19.323067   6.368677e-05\n",
            "1                   Job Role     5.006741   8.180878e-02\n",
            "11  Leadership Opportunities     4.977275   8.302301e-02\n",
            "14      Employee Recognition     0.149729   9.278694e-01\n"
          ]
        }
      ]
    },
    {
      "cell_type": "markdown",
      "source": [
        "selecting feature with high chi 2 value"
      ],
      "metadata": {
        "id": "132hg-_A1QQD"
      }
    },
    {
      "cell_type": "markdown",
      "source": [
        "# **Scaling and model building**"
      ],
      "metadata": {
        "id": "b6pBza811zYg"
      }
    },
    {
      "cell_type": "code",
      "source": [
        "# Selected features for Model Building.\n",
        "Features = ['Joblevel','Remote Work','Marital Status','Gender', 'Job Satisfaction', 'Company Tenure']"
      ],
      "metadata": {
        "id": "ef8m6hJ9122H"
      },
      "execution_count": 99,
      "outputs": []
    },
    {
      "cell_type": "code",
      "source": [
        "from sklearn.model_selection import train_test_split\n",
        "\n",
        "X= data.drop(columns=['Attrition'])\n",
        "y= data['Attrition']\n",
        "\n",
        "X_train, X_test, y_train, y_test = train_test_split(X, y, test_size=0.25, random_state=42)"
      ],
      "metadata": {
        "id": "ukqfIeOt1Zai"
      },
      "execution_count": 100,
      "outputs": []
    },
    {
      "cell_type": "code",
      "source": [
        "from sklearn.ensemble import RandomForestClassifier\n",
        "\n",
        "model = RandomForestClassifier(random_state=42)\n",
        "model.fit(X_train, y_train)\n",
        "from sklearn.metrics import accuracy_score, classification_report, confusion_matrix\n",
        "y_pred = model.predict(X_test)\n",
        "accuracy = accuracy_score(y_test, y_pred)\n",
        "print(f'Accuracy: {accuracy}')\n",
        "print(confusion_matrix(y_test, y_pred))\n"
      ],
      "metadata": {
        "colab": {
          "base_uri": "https://localhost:8080/"
        },
        "id": "gqg4pFLV24KX",
        "outputId": "b94a82d7-abc3-4495-f5e8-4cfa4ace55e8"
      },
      "execution_count": 105,
      "outputs": [
        {
          "output_type": "stream",
          "name": "stdout",
          "text": [
            "Accuracy: 0.7435728952772074\n",
            "[[4251 1537]\n",
            " [1585 4802]]\n"
          ]
        }
      ]
    },
    {
      "cell_type": "code",
      "source": [],
      "metadata": {
        "id": "KOboFFTb3bNU"
      },
      "execution_count": null,
      "outputs": []
    }
  ]
}